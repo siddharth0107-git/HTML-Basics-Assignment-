{
  "nbformat": 4,
  "nbformat_minor": 0,
  "metadata": {
    "colab": {
      "provenance": []
    },
    "kernelspec": {
      "name": "python3",
      "display_name": "Python 3"
    },
    "language_info": {
      "name": "python"
    }
  },
  "cells": [
    {
      "cell_type": "markdown",
      "source": [
        "Question 1 : Explain the basic structure of an HTML page. Why is it important to follow\n",
        "this structure?"
      ],
      "metadata": {
        "id": "pDHS4faRxuVx"
      }
    },
    {
      "cell_type": "code",
      "source": [
        "<!DOCTYPE html>\n",
        "<html lang=\"en\">\n",
        "<head>\n",
        "    <meta charset=\"UTF-8\">\n",
        "    <meta name=\"viewport\" content=\"width=device-width, initial-scale=1.0\">\n",
        "    <title>Document</title>\n",
        "</head>\n",
        "<body>\n",
        "    <h1>Heading</h1>\n",
        "</body>\n",
        "</html>"
      ],
      "metadata": {
        "id": "h7KdtbhByG2T"
      },
      "execution_count": null,
      "outputs": []
    },
    {
      "cell_type": "markdown",
      "source": [
        "It is important to follow the structure to Ensure browser compatibility, Makes the code organized and readable"
      ],
      "metadata": {
        "id": "GVW_H3_ByFKk"
      }
    },
    {
      "cell_type": "markdown",
      "source": [
        "Question 2: You’re building a small personal profile page. Which HTML tags will you\n",
        "use to highlight your name as a heading, describe yourself in a paragraph, and\n",
        "emphasize a key skill?"
      ],
      "metadata": {
        "id": "1oVbciONzIIa"
      }
    },
    {
      "cell_type": "code",
      "source": [
        "<!DOCTYPE html>\n",
        "<html lang=\"en\">\n",
        "<head>\n",
        "    <meta charset=\"UTF-8\">\n",
        "    <meta name=\"viewport\" content=\"width=device-width, initial-scale=1.0\">\n",
        "    <title>Document</title>\n",
        "</head>\n",
        "<body>\n",
        "    <h1>VUNNAGARI SIDDHARTH</h1>\n",
        "    <p>Hello! I am a web developer passionate about creating user-friendly websites.</p>\n",
        "    <p>My key skill is <em>JavaScript programming</em>.</p>\n",
        "</body>\n",
        "</html>"
      ],
      "metadata": {
        "id": "jMesnaunzJwx"
      },
      "execution_count": null,
      "outputs": []
    },
    {
      "cell_type": "markdown",
      "source": [
        "Question 3: Look at the code below. Can you find and fix the mistake?\n",
        "<!-- This is an HTML comment\n",
        "<h1>Welcome to my website</h1>\n"
      ],
      "metadata": {
        "id": "MUasSG1Iz2hF"
      }
    },
    {
      "cell_type": "code",
      "source": [
        "<!-- This is an HTML comment\n",
        "<h1>Welcome to my website</h1>"
      ],
      "metadata": {
        "id": "SYwFjBnoz_ZV"
      },
      "execution_count": null,
      "outputs": []
    },
    {
      "cell_type": "markdown",
      "source": [
        "ANSWER:\n"
      ],
      "metadata": {
        "id": "hw6Ib8MNz-iz"
      }
    },
    {
      "cell_type": "code",
      "source": [
        "<!-- This is an HTML comment -->\n",
        "<h1>Welcome to my website</h1>"
      ],
      "metadata": {
        "id": "3Nm6OQed0Hlg"
      },
      "execution_count": null,
      "outputs": []
    },
    {
      "cell_type": "markdown",
      "source": [
        "Question 4: You’re creating a form that asks the user to enter their name, select their\n",
        "country from a list, and click a button to submit. Write the HTML code for this.\n"
      ],
      "metadata": {
        "id": "38gMu4OE0MvP"
      }
    },
    {
      "cell_type": "code",
      "source": [
        "<!DOCTYPE html>\n",
        "<html lang=\"en\">\n",
        "<head>\n",
        "    <meta charset=\"UTF-8\">\n",
        "    <meta name=\"viewport\" content=\"width=device-width, initial-scale=1.0\">\n",
        "    <title>Survey form </title>\n",
        "</head>\n",
        "<body>\n",
        "    <h1>Survey Form</h1>\n",
        "    <form>\n",
        "    <label for=\"name\">Name:</label>\n",
        "    <input type=\"text\" id=\"name\" name=\"name\"><br><br>\n",
        "\n",
        "    <label for=\"country\">Country:</label>\n",
        "    <select id=\"country\" name=\"country\">\n",
        "        <option>India</option>\n",
        "        <option>USA</option>\n",
        "        <option>UK</option>\n",
        "        <option>Australia</option>\n",
        "        <option >Russia</option>\n",
        "        <option >China</option>\n",
        "\n",
        "    </select><br /><br />\n",
        "\n",
        "    <button type=\"submit\">Submit</button>\n",
        "</form>\n",
        "\n",
        "</body>\n",
        "</html>"
      ],
      "metadata": {
        "id": "OHgCjde90Sz2"
      },
      "execution_count": null,
      "outputs": []
    },
    {
      "cell_type": "markdown",
      "source": [
        "Question 5: Write short HTML code to show your favorite fruits in a bulleted list and\n",
        "your top 3 programming languages in a numbered list.\n"
      ],
      "metadata": {
        "id": "egmytSwp1C_d"
      }
    },
    {
      "cell_type": "code",
      "source": [
        "<!DOCTYPE html>\n",
        "<html lang=\"en\">\n",
        "<head>\n",
        "    <meta charset=\"UTF-8\">\n",
        "    <meta name=\"viewport\" content=\"width=device-width, initial-scale=1.0\">\n",
        "    <title>Document</title>\n",
        "</head>\n",
        "<body>\n",
        "    <h3>My Favorite Fruits</h3>\n",
        "<ul>\n",
        "    <li>Mango</li>\n",
        "    <li>Apple</li>\n",
        "    <li>Banana</li>\n",
        "</ul>\n",
        "\n",
        "<h3>My Top 3 Programming Languages</h3>\n",
        "<ol>\n",
        "    <li>Python</li>\n",
        "    <li>JavaScript</li>\n",
        "    <li>C++</li>\n",
        "</ol>\n",
        "\n",
        "</body>\n",
        "</html>"
      ],
      "metadata": {
        "id": "rZNoc-4o1dgd"
      },
      "execution_count": null,
      "outputs": []
    },
    {
      "cell_type": "markdown",
      "source": [
        "Question 6: Ravi wants to leave a note in his HTML file so that only other developers\n",
        "can see it, not the users on the website. How should he do this? Why are such notes\n",
        "useful?"
      ],
      "metadata": {
        "id": "OmpPoavv1gv1"
      }
    },
    {
      "cell_type": "code",
      "source": [
        "<!-- This is a developer note: Update this section -->\n"
      ],
      "metadata": {
        "id": "54AQmdHb1xUB"
      },
      "execution_count": null,
      "outputs": []
    },
    {
      "cell_type": "markdown",
      "source": [
        "Question 7: Here’s a form snippet. Can you spot the error and rewrite the correct\n",
        "version?  "
      ],
      "metadata": {
        "id": "qdIiB20h13et"
      }
    },
    {
      "cell_type": "code",
      "source": [
        "<form>\n",
        " <input name=\"email\">\n",
        " <select>\n",
        " <option>India</option>\n",
        " </select>\n",
        " <button>Send</buton>\n",
        "</form>"
      ],
      "metadata": {
        "id": "-QLuYNPx17O-"
      },
      "execution_count": null,
      "outputs": []
    },
    {
      "cell_type": "markdown",
      "source": [
        "ANSWER:"
      ],
      "metadata": {
        "id": "9W1J881P2EUa"
      }
    },
    {
      "cell_type": "code",
      "source": [
        "<form>\n",
        "    <input type=\"email\" name=\"email\" placeholder=\"Enter your email\">\n",
        "    <select>\n",
        "        <option>India</option>\n",
        "    </select>\n",
        "    <button type=\"submit\">Send</button>\n",
        "</form>\n"
      ],
      "metadata": {
        "id": "g0hPbDYi2F8I"
      },
      "execution_count": null,
      "outputs": []
    }
  ]
}